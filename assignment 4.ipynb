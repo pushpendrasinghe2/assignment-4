{
 "cells": [
  {
   "cell_type": "raw",
   "id": "7efddb09",
   "metadata": {},
   "source": [
    " 1. What exactly is []?"
   ]
  },
  {
   "cell_type": "code",
   "execution_count": 2,
   "id": "18ecf0e2",
   "metadata": {},
   "outputs": [],
   "source": [
    "##ans- its a empty list value which can be mutable (list are the set of data for mutiple data types in square brackets )."
   ]
  },
  {
   "cell_type": "raw",
   "id": "c8fd729a",
   "metadata": {},
   "source": [
    "2. In a list of values stored in a variable called spam, how would you assign the value 'hello' as the\n",
    "third value? (Assume [2, 4, 6, 8, 10] are in spam.)"
   ]
  },
  {
   "cell_type": "code",
   "execution_count": 3,
   "id": "602df684",
   "metadata": {},
   "outputs": [],
   "source": [
    "##ans-\n",
    "spam = [2,4,6,8,10]"
   ]
  },
  {
   "cell_type": "code",
   "execution_count": 4,
   "id": "6fa96981",
   "metadata": {},
   "outputs": [],
   "source": [
    "spam[2]='hello'"
   ]
  },
  {
   "cell_type": "code",
   "execution_count": 5,
   "id": "fe1705f3",
   "metadata": {},
   "outputs": [
    {
     "data": {
      "text/plain": [
       "[2, 4, 'hello', 8, 10]"
      ]
     },
     "execution_count": 5,
     "metadata": {},
     "output_type": "execute_result"
    }
   ],
   "source": [
    "spam"
   ]
  },
  {
   "cell_type": "raw",
   "id": "21315b00",
   "metadata": {},
   "source": [
    "Let's pretend the spam includes the list ['a', 'b', 'c', 'd'] for the next three queries."
   ]
  },
  {
   "cell_type": "raw",
   "id": "9e005e35",
   "metadata": {},
   "source": [
    "3. What is the value of spam[int(int('3' * 2) / 11)]?"
   ]
  },
  {
   "cell_type": "code",
   "execution_count": 6,
   "id": "b87750f1",
   "metadata": {},
   "outputs": [],
   "source": [
    "spam = ['a','b','c','d']"
   ]
  },
  {
   "cell_type": "code",
   "execution_count": 7,
   "id": "1003833a",
   "metadata": {},
   "outputs": [
    {
     "data": {
      "text/plain": [
       "'d'"
      ]
     },
     "execution_count": 7,
     "metadata": {},
     "output_type": "execute_result"
    }
   ],
   "source": [
    "spam[int(int('3'*2)/11)] ##string '3'*2 ='33' which passed to int then divided by 11 that give us 3. "
   ]
  },
  {
   "cell_type": "raw",
   "id": "e23dabeb",
   "metadata": {},
   "source": [
    "4. What is the value of spam[-1]?"
   ]
  },
  {
   "cell_type": "code",
   "execution_count": 8,
   "id": "de8d12e5",
   "metadata": {},
   "outputs": [
    {
     "data": {
      "text/plain": [
       "'d'"
      ]
     },
     "execution_count": 8,
     "metadata": {},
     "output_type": "execute_result"
    }
   ],
   "source": [
    "spam[-1]"
   ]
  },
  {
   "cell_type": "raw",
   "id": "63c46d62",
   "metadata": {},
   "source": [
    "5. What is the value of spam[:2]?"
   ]
  },
  {
   "cell_type": "code",
   "execution_count": 9,
   "id": "523e39e8",
   "metadata": {},
   "outputs": [
    {
     "data": {
      "text/plain": [
       "['a', 'b']"
      ]
     },
     "execution_count": 9,
     "metadata": {},
     "output_type": "execute_result"
    }
   ],
   "source": [
    "spam[:2]"
   ]
  },
  {
   "cell_type": "raw",
   "id": "cf2fcb29",
   "metadata": {},
   "source": [
    "Let's pretend bacon has the list [3.14, 'cat,' 11, 'cat,' True] for the next three questions."
   ]
  },
  {
   "cell_type": "code",
   "execution_count": 10,
   "id": "0e5b65d3",
   "metadata": {},
   "outputs": [],
   "source": [
    "bacon = [3.14, 'cat', 11, 'cat', True]"
   ]
  },
  {
   "cell_type": "raw",
   "id": "50b2b1f8",
   "metadata": {},
   "source": [
    "6. What is the value of bacon.index('cat')?"
   ]
  },
  {
   "cell_type": "code",
   "execution_count": 11,
   "id": "2bb1f709",
   "metadata": {},
   "outputs": [
    {
     "data": {
      "text/plain": [
       "1"
      ]
     },
     "execution_count": 11,
     "metadata": {},
     "output_type": "execute_result"
    }
   ],
   "source": [
    "bacon.index('cat')## *if there are two identical data then the index value of first one has more priority"
   ]
  },
  {
   "cell_type": "raw",
   "id": "204c5747",
   "metadata": {},
   "source": [
    "7. How does bacon.append(99) change the look of the list value in bacon?"
   ]
  },
  {
   "cell_type": "code",
   "execution_count": 12,
   "id": "7bd93822",
   "metadata": {},
   "outputs": [],
   "source": [
    "bacon.append(99)"
   ]
  },
  {
   "cell_type": "code",
   "execution_count": 13,
   "id": "073c9457",
   "metadata": {},
   "outputs": [
    {
     "data": {
      "text/plain": [
       "[3.14, 'cat', 11, 'cat', True, 99]"
      ]
     },
     "execution_count": 13,
     "metadata": {},
     "output_type": "execute_result"
    }
   ],
   "source": [
    "bacon #bacon.append(99) append '99'as a new data entry in the existing list so,it increased the data in list"
   ]
  },
  {
   "cell_type": "raw",
   "id": "3ff969ff",
   "metadata": {},
   "source": [
    "8. How does bacon.remove('cat') change the look of the list in bacon?"
   ]
  },
  {
   "cell_type": "code",
   "execution_count": 14,
   "id": "f64cce0f",
   "metadata": {},
   "outputs": [],
   "source": [
    "bacon.remove('cat')"
   ]
  },
  {
   "cell_type": "code",
   "execution_count": 15,
   "id": "dbec7a46",
   "metadata": {},
   "outputs": [
    {
     "data": {
      "text/plain": [
       "[3.14, 11, 'cat', True, 99]"
      ]
     },
     "execution_count": 15,
     "metadata": {},
     "output_type": "execute_result"
    }
   ],
   "source": [
    "bacon ##bacon.remove('cat') has removed cat "
   ]
  },
  {
   "cell_type": "raw",
   "id": "e4534aa4",
   "metadata": {},
   "source": [
    "9. What are the list concatenation and list replication operators?"
   ]
  },
  {
   "cell_type": "raw",
   "id": "9c09f18e",
   "metadata": {},
   "source": [
    "ans - list concatenation operaters are the oprater wich conect data or join them if they are same data type.(+)\n",
    "\n",
    "list replication aperators are the oprater wich make copies of that particular object and combines them together . this oprater is for performing multiplication with list , tuple or string.(*) "
   ]
  },
  {
   "cell_type": "raw",
   "id": "9d2979e6",
   "metadata": {},
   "source": [
    "10. What is difference between the list methods append() and insert()?"
   ]
  },
  {
   "cell_type": "raw",
   "id": "f9ab2a6a",
   "metadata": {},
   "source": [
    "ans - While append() will add values only to the end of a list, insert() can add them anywhere in the list."
   ]
  },
  {
   "cell_type": "raw",
   "id": "f6a2aade",
   "metadata": {},
   "source": [
    "11. What are the two methods for removing items from a list?"
   ]
  },
  {
   "cell_type": "raw",
   "id": "be6e17db",
   "metadata": {},
   "source": [
    "ans - The del statement and the remove() list method are two ways to remove values from a list."
   ]
  },
  {
   "cell_type": "code",
   "execution_count": 35,
   "id": "c4e43530",
   "metadata": {},
   "outputs": [],
   "source": [
    "l = [3,4,5,6,8]#example"
   ]
  },
  {
   "cell_type": "code",
   "execution_count": 36,
   "id": "73198611",
   "metadata": {},
   "outputs": [],
   "source": [
    "l.remove(3)"
   ]
  },
  {
   "cell_type": "code",
   "execution_count": 37,
   "id": "fc9952ab",
   "metadata": {},
   "outputs": [
    {
     "data": {
      "text/plain": [
       "[4, 5, 6, 8]"
      ]
     },
     "execution_count": 37,
     "metadata": {},
     "output_type": "execute_result"
    }
   ],
   "source": [
    "l"
   ]
  },
  {
   "cell_type": "code",
   "execution_count": null,
   "id": "b7a74c09",
   "metadata": {},
   "outputs": [],
   "source": []
  },
  {
   "cell_type": "raw",
   "id": "523a45d9",
   "metadata": {},
   "source": [
    "12. Describe how list values and string values are identical."
   ]
  },
  {
   "cell_type": "raw",
   "id": "6a849ccb",
   "metadata": {},
   "source": [
    "ans-Both lists and strings can be passed to len(), have indexes and slices, be used in for loops, be concatenated or replicated, and be used with the in and not in operators."
   ]
  },
  {
   "cell_type": "raw",
   "id": "cc760391",
   "metadata": {},
   "source": [
    "13. What's the difference between tuples and lists?"
   ]
  },
  {
   "cell_type": "raw",
   "id": "0681656d",
   "metadata": {},
   "source": [
    "ans -Lists are mutable; they can have values added, removed, or changed. Tuples are immutable; they cannot be changed at all. Also, tuples are written using parentheses, ( and ), while lists use the square brackets, [ and ]."
   ]
  },
  {
   "cell_type": "raw",
   "id": "25e3d67f",
   "metadata": {},
   "source": [
    "14. How do you type a tuple value that only contains the integer 42?"
   ]
  },
  {
   "cell_type": "code",
   "execution_count": 39,
   "id": "d174fc7c",
   "metadata": {},
   "outputs": [],
   "source": [
    "t = (42,)#the trailing comma is mandatory"
   ]
  },
  {
   "cell_type": "raw",
   "id": "024b64cc",
   "metadata": {},
   "source": [
    "15. How do you get a list value's tuple form? How do you get a tuple value's list form?"
   ]
  },
  {
   "cell_type": "raw",
   "id": "0059ba75",
   "metadata": {},
   "source": [
    "ans- The tuple() and list() functions, respectively"
   ]
  },
  {
   "cell_type": "code",
   "execution_count": 40,
   "id": "bf5e764b",
   "metadata": {},
   "outputs": [],
   "source": [
    "l =[2,34,4,5]"
   ]
  },
  {
   "cell_type": "code",
   "execution_count": 41,
   "id": "642fc04b",
   "metadata": {},
   "outputs": [
    {
     "data": {
      "text/plain": [
       "(2, 34, 4, 5)"
      ]
     },
     "execution_count": 41,
     "metadata": {},
     "output_type": "execute_result"
    }
   ],
   "source": [
    "tuple(l)"
   ]
  },
  {
   "cell_type": "code",
   "execution_count": 42,
   "id": "7038e7ec",
   "metadata": {},
   "outputs": [],
   "source": [
    "t = (4,6,7,5)"
   ]
  },
  {
   "cell_type": "code",
   "execution_count": 43,
   "id": "7ae70bdc",
   "metadata": {},
   "outputs": [
    {
     "data": {
      "text/plain": [
       "[4, 6, 7, 5]"
      ]
     },
     "execution_count": 43,
     "metadata": {},
     "output_type": "execute_result"
    }
   ],
   "source": [
    "list(t)"
   ]
  },
  {
   "cell_type": "raw",
   "id": "5f35b8f9",
   "metadata": {},
   "source": [
    "16. Variables that \"contain\" list values are not necessarily lists themselves. Instead, what do they contain?"
   ]
  },
  {
   "cell_type": "raw",
   "id": "9a31f24d",
   "metadata": {},
   "source": [
    "ans- They contain references to list values."
   ]
  },
  {
   "cell_type": "raw",
   "id": "798b00a1",
   "metadata": {},
   "source": [
    "17. How do you distinguish between copy.copy() and copy.deepcopy()?"
   ]
  },
  {
   "cell_type": "raw",
   "id": "88c4ac7e",
   "metadata": {},
   "source": [
    "ans- The copy.copy() function will do a shallow copy of a list, while the copy.deepcopy() function will do a deep copy of a list. That is, only copy.deepcopy() will duplicate any lists inside the list."
   ]
  }
 ],
 "metadata": {
  "kernelspec": {
   "display_name": "Python 3 (ipykernel)",
   "language": "python",
   "name": "python3"
  },
  "language_info": {
   "codemirror_mode": {
    "name": "ipython",
    "version": 3
   },
   "file_extension": ".py",
   "mimetype": "text/x-python",
   "name": "python",
   "nbconvert_exporter": "python",
   "pygments_lexer": "ipython3",
   "version": "3.10.9"
  }
 },
 "nbformat": 4,
 "nbformat_minor": 5
}
